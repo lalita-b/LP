{
 "cells": [
  {
   "cell_type": "code",
   "execution_count": 17,
   "id": "b1038e8b-cecc-4fae-8891-2a016f21a7c4",
   "metadata": {},
   "outputs": [
    {
     "name": "stdin",
     "output_type": "stream",
     "text": [
      "Enter your Message:  hello\n"
     ]
    },
    {
     "name": "stdout",
     "output_type": "stream",
     "text": [
      "Encrypted Message: e_l_hol_\n",
      "Decryped Message: hello\n"
     ]
    }
   ],
   "source": [
    "import math\n",
    "key = \"HACK\"\n",
    "# Encryption\n",
    "def encryptMessage(msg):\n",
    "    cipher = \"\"\n",
    "    k_indx = 0\n",
    "    msg_len = float(len(msg))\n",
    "    msg_lst = list(msg)\n",
    "    key_lst = sorted(list(key))\n",
    "    col = len(key)\n",
    "    row = int(math.ceil(msg_len / col))\n",
    "    \n",
    "    fill_null = int((row * col) - msg_len)\n",
    "    msg_lst.extend('_' * fill_null)\n",
    "    matrix = [msg_lst[i: i + col]\n",
    "    for i in range(0, len(msg_lst), col)]\n",
    "\n",
    "    for _ in range(col):\n",
    "        curr_idx = key.index(key_lst[k_indx])\n",
    "        cipher += ''.join([row[curr_idx] for row in matrix])\n",
    "        k_indx += 1\n",
    "    return cipher\n",
    "\n",
    "def decryptMessage(cipher):\n",
    "    msg = \"\"\n",
    "    k_indx = 0\n",
    "    msg_indx = 0\n",
    "    msg_len = float(len(cipher))\n",
    "    msg_lst = list(cipher)\n",
    "    key_lst = sorted(list(key))\n",
    "    col = len(key)\n",
    "    row = int(math.ceil(msg_len / col))\n",
    "    \n",
    "    dec_cipher = []\n",
    "    for _ in range(row):\n",
    "        dec_cipher += [[None] * col]\n",
    "  \n",
    "    for _ in range(col):\n",
    "        curr_idx = key.index(key_lst[k_indx])\n",
    "        for j in range(row):\n",
    "            dec_cipher[j][curr_idx] = msg_lst[msg_indx]\n",
    "            msg_indx += 1\n",
    "        k_indx += 1\n",
    "\n",
    "    try:\n",
    "        msg = ''.join(sum(dec_cipher, []))\n",
    "    except TypeError:\n",
    "        raise TypeError(\"This program cannot\", \"handle repeating words.\")\n",
    "    null_count = msg.count('_')\n",
    "    if null_count > 0:\n",
    "        return msg[: -null_count]\n",
    "    return msg\n",
    "\n",
    "msg = input(\"Enter your Message: \")\n",
    "cipher = encryptMessage(msg)\n",
    "print(\"Encrypted Message: {}\".format(cipher))\n",
    "print(\"Decryped Message: {}\".format(decryptMessage(cipher)))\n",
    "\n"
   ]
  },
  {
   "cell_type": "code",
   "execution_count": null,
   "id": "4eaf2d6d-1171-4242-a447-5d3b9d6f4698",
   "metadata": {},
   "outputs": [],
   "source": []
  }
 ],
 "metadata": {
  "kernelspec": {
   "display_name": "Python 3 (ipykernel)",
   "language": "python",
   "name": "python3"
  },
  "language_info": {
   "codemirror_mode": {
    "name": "ipython",
    "version": 3
   },
   "file_extension": ".py",
   "mimetype": "text/x-python",
   "name": "python",
   "nbconvert_exporter": "python",
   "pygments_lexer": "ipython3",
   "version": "3.8.5"
  }
 },
 "nbformat": 4,
 "nbformat_minor": 5
}
