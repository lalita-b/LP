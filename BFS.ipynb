{
 "cells": [
  {
   "cell_type": "code",
   "execution_count": 64,
   "id": "f176fa0f-e5ec-43d3-8543-4aaa1f2a656e",
   "metadata": {},
   "outputs": [
    {
     "name": "stdin",
     "output_type": "stream",
     "text": [
      "Enter the root node:  5\n"
     ]
    },
    {
     "name": "stdout",
     "output_type": "stream",
     "text": [
      "\n",
      "Following is Breadth-First-Search:\n",
      "5 3 7 2 4 8 "
     ]
    }
   ],
   "source": [
    "\n",
    "graph = {\n",
    "  5 : [3,7],\n",
    "  3 : [2, 4],\n",
    "  7 : [8],\n",
    "  2 : [],\n",
    "  4 : [8],\n",
    "  8 : []\n",
    "}\n",
    "\n",
    "visited = [] # List to keep track of visited nodes.\n",
    "queue = []     #Initialize a queue\n",
    "def bfs(visited, graph, node):\n",
    "  visited.append(node)\n",
    "  queue.append(node)\n",
    "\n",
    "  while queue:\n",
    "    s = queue.pop(0) \n",
    "    print (s, end = \" \") \n",
    "\n",
    "    for neighbour in graph[s]:\n",
    "      if neighbour not in visited:\n",
    "        visited.append(neighbour)\n",
    "        queue.append(neighbour)\n",
    "\n",
    "# Driver Code\n",
    "n=int(input(\"Enter the root node: \"))\n",
    "print(\"\\nFollowing is Breadth-First-Search:\")\n",
    "bfs(visited, graph, n)\n"
   ]
  },
  {
   "cell_type": "code",
   "execution_count": null,
   "id": "8f3b99f7-200f-467f-bc68-2c16380d1b82",
   "metadata": {},
   "outputs": [],
   "source": []
  },
  {
   "cell_type": "code",
   "execution_count": null,
   "id": "07095efb-9890-4cf8-87aa-8cea333c951a",
   "metadata": {},
   "outputs": [],
   "source": []
  },
  {
   "cell_type": "code",
   "execution_count": null,
   "id": "5b900bd4-8888-4851-99ea-716ff1723734",
   "metadata": {},
   "outputs": [],
   "source": []
  }
 ],
 "metadata": {
  "kernelspec": {
   "display_name": "Python 3 (ipykernel)",
   "language": "python",
   "name": "python3"
  },
  "language_info": {
   "codemirror_mode": {
    "name": "ipython",
    "version": 3
   },
   "file_extension": ".py",
   "mimetype": "text/x-python",
   "name": "python",
   "nbconvert_exporter": "python",
   "pygments_lexer": "ipython3",
   "version": "3.8.5"
  }
 },
 "nbformat": 4,
 "nbformat_minor": 5
}
