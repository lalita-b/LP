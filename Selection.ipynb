{
 "cells": [
  {
   "cell_type": "code",
   "execution_count": 1,
   "id": "13ca6f3d-5f63-48ea-a64b-7af2594eb4e4",
   "metadata": {},
   "outputs": [
    {
     "name": "stdin",
     "output_type": "stream",
     "text": [
      "Enter no. of elements  5\n",
      "Enter element  22\n",
      "Enter element  11\n",
      "Enter element  33\n",
      "Enter element  42\n",
      "Enter element  10\n"
     ]
    },
    {
     "name": "stdout",
     "output_type": "stream",
     "text": [
      "[10, 11, 22, 33, 42]\n"
     ]
    }
   ],
   "source": [
    "def selectionsort(a):\n",
    "    for i in range (0,n):\n",
    "        min=i\n",
    "        for j in range (i+1,n):\n",
    "            if a[j]<a[min]:\n",
    "                min=j\n",
    "        a[i],a[min]= a[min],a[i]\n",
    "    return a\n",
    "n=int(input(\"Enter no. of elements: \"))\n",
    "a=[]\n",
    "for i in range (0,n):\n",
    "    a.append(int(input(\"Enter element: \")))\n",
    "print(selectionsort(a))\n"
   ]
  },
  {
   "cell_type": "code",
   "execution_count": null,
   "id": "69fb2792-4f4d-436b-a151-60438ba52d64",
   "metadata": {},
   "outputs": [],
   "source": []
  }
 ],
 "metadata": {
  "kernelspec": {
   "display_name": "Python 3 (ipykernel)",
   "language": "python",
   "name": "python3"
  },
  "language_info": {
   "codemirror_mode": {
    "name": "ipython",
    "version": 3
   },
   "file_extension": ".py",
   "mimetype": "text/x-python",
   "name": "python",
   "nbconvert_exporter": "python",
   "pygments_lexer": "ipython3",
   "version": "3.8.5"
  }
 },
 "nbformat": 4,
 "nbformat_minor": 5
}
