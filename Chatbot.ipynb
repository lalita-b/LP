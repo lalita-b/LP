{
 "cells": [
  {
   "cell_type": "code",
   "execution_count": null,
   "id": "0f87415b-50ef-4726-8e77-f3516f6fc12b",
   "metadata": {},
   "outputs": [
    {
     "name": "stdout",
     "output_type": "stream",
     "text": [
      "Hello! My name is Sbot.\n",
      "I was created in 2021.\n",
      "Please, remind me your name.\n"
     ]
    },
    {
     "name": "stdin",
     "output_type": "stream",
     "text": [
      " mmm\n"
     ]
    },
    {
     "name": "stdout",
     "output_type": "stream",
     "text": [
      "What a great name you have, mmm!\n",
      "Let me guess your age.\n",
      "Enter remainders of dividing your age by 3, 5 and 7.\n"
     ]
    },
    {
     "name": "stdin",
     "output_type": "stream",
     "text": [
      " 0\n",
      " 1\n",
      " 0\n"
     ]
    },
    {
     "name": "stdout",
     "output_type": "stream",
     "text": [
      "Your age is 21; that's a good time to start programming!\n",
      "Now I will prove to you that I can count to any number you want.\n"
     ]
    },
    {
     "name": "stdin",
     "output_type": "stream",
     "text": [
      " 5\n"
     ]
    },
    {
     "name": "stdout",
     "output_type": "stream",
     "text": [
      "0\n",
      "1\n",
      "2\n",
      "3\n",
      "4\n",
      "5\n",
      "Let's test your programming knowledge.\n",
      "Why do we use methods?\n",
      "1. To repeat a statement multiple times.\n",
      "2. To decompose a program into several small subroutines.\n",
      "3. To determine the execution time of a program.\n",
      "4. To interrupt the execution of a program.\n"
     ]
    },
    {
     "name": "stdin",
     "output_type": "stream",
     "text": [
      " 2\n"
     ]
    },
    {
     "name": "stdout",
     "output_type": "stream",
     "text": [
      "Completed, have a nice day!\n",
      ".................................\n",
      "Congratulations, have a nice day!\n",
      ".................................\n"
     ]
    }
   ],
   "source": [
    "def greet(bot_name, birth_year):\n",
    "    print(\"Hello! My name is {0}.\".format(bot_name))\n",
    "    print(\"I was created in {0}.\".format(birth_year))\n",
    "    \n",
    "def remind_name():\n",
    "    print('Please, remind me your name.')\n",
    "    name = input()\n",
    "    print(\"What a great name you have, {0}!\".format(name))\n",
    "\n",
    "def guess_age():\n",
    "    print('Let me guess your age.')\n",
    "    print('Enter remainders of dividing your age by 3, 5 and 7.')\n",
    "    rem3 = int(input())\n",
    "    rem5 = int(input())\n",
    "    rem7 = int(input())\n",
    "    age = (rem3 * 70 + rem5 * 21 + rem7 * 15) % 105\n",
    "    print(\"Your age is {0}; that's a good time to start programming!\".format(age))    \n",
    "\n",
    "def count():\n",
    "    print('Now I will prove to you that I can count to any number you want.')\n",
    "    num = int(input())\n",
    "    counter = 0\n",
    "    while counter <= num:\n",
    "        print(\"{0}\".format(counter))\n",
    "        counter += 1\n",
    "\n",
    "def test():\n",
    "    print(\"Let's test your programming knowledge.\")\n",
    "    print(\"Why do we use methods?\")\n",
    "    print(\"1. To repeat a statement multiple times.\")\n",
    "    print(\"2. To decompose a program into several small subroutines.\")\n",
    "    print(\"3. To determine the execution time of a program.\")\n",
    "    print(\"4. To interrupt the execution of a program.\")\n",
    "    answer = 2\n",
    "    guess = int(input())\n",
    "    while guess != answer:\n",
    "        print(\"Please, try again.\")\n",
    "        guess = int(input())\n",
    "    print('Completed, have a nice day!')\n",
    "    print('.................................')\n",
    "    \n",
    "def end():\n",
    "    print('Congratulations, have a nice day!')\n",
    "    print('.................................')\n",
    "    input()\n",
    "    \n",
    "greet('Sbot', '2021') # change it as you need\n",
    "remind_name()\n",
    "guess_age()\n",
    "count()\n",
    "test()\n",
    "end()"
   ]
  },
  {
   "cell_type": "code",
   "execution_count": null,
   "id": "83a69f65-c8f4-4524-a08d-d19b05357aea",
   "metadata": {},
   "outputs": [],
   "source": []
  },
  {
   "cell_type": "code",
   "execution_count": null,
   "id": "301095ac-196a-4aa8-83d6-e54ce0625816",
   "metadata": {},
   "outputs": [],
   "source": []
  },
  {
   "cell_type": "code",
   "execution_count": null,
   "id": "1a85f7d3-9e45-4f1f-9020-4b6d3fe8cbfe",
   "metadata": {},
   "outputs": [],
   "source": []
  }
 ],
 "metadata": {
  "kernelspec": {
   "display_name": "Python 3 (ipykernel)",
   "language": "python",
   "name": "python3"
  },
  "language_info": {
   "codemirror_mode": {
    "name": "ipython",
    "version": 3
   },
   "file_extension": ".py",
   "mimetype": "text/x-python",
   "name": "python",
   "nbconvert_exporter": "python",
   "pygments_lexer": "ipython3",
   "version": "3.8.5"
  }
 },
 "nbformat": 4,
 "nbformat_minor": 5
}
