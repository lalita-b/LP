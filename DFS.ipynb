{
 "cells": [
  {
   "cell_type": "code",
   "execution_count": 3,
   "id": "1f333b1f-8f98-4617-997e-f49b53a79c3a",
   "metadata": {},
   "outputs": [
    {
     "name": "stdin",
     "output_type": "stream",
     "text": [
      "Enter the root node:  5\n"
     ]
    },
    {
     "name": "stdout",
     "output_type": "stream",
     "text": [
      "\n",
      "Following is Depth-First-Search:\n",
      "5 3 2 4 8 7 "
     ]
    }
   ],
   "source": [
    "# Using a Python dictionary to act as an adjacency list\n",
    "graph = {\n",
    "  5 : [3,7],\n",
    "  3 : [2, 4],\n",
    "  7 : [8],\n",
    "  2 : [],\n",
    "  4 : [8],\n",
    "  8 : []\n",
    "}\n",
    "\n",
    "visited = set() # Set to keep track of visited nodes.\n",
    "\n",
    "def dfs(visited, graph, node):\n",
    "    if node not in visited:\n",
    "        print (node, end = \" \")\n",
    "        visited.add(node)\n",
    "        for neighbour in graph[node]:\n",
    "            dfs(visited, graph, neighbour)\n",
    "\n",
    "# Driver Code\n",
    "n=int(input(\"Enter the root node: \"))\n",
    "print(\"\\nFollowing is Depth-First-Search:\")\n",
    "dfs(visited, graph, 5)"
   ]
  },
  {
   "cell_type": "code",
   "execution_count": null,
   "id": "e9979a7f-83f7-40d7-9f57-3bd9b7c5a990",
   "metadata": {},
   "outputs": [],
   "source": []
  }
 ],
 "metadata": {
  "kernelspec": {
   "display_name": "Python 3 (ipykernel)",
   "language": "python",
   "name": "python3"
  },
  "language_info": {
   "codemirror_mode": {
    "name": "ipython",
    "version": 3
   },
   "file_extension": ".py",
   "mimetype": "text/x-python",
   "name": "python",
   "nbconvert_exporter": "python",
   "pygments_lexer": "ipython3",
   "version": "3.8.5"
  }
 },
 "nbformat": 4,
 "nbformat_minor": 5
}
