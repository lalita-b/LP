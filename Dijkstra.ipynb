{
 "cells": [
  {
   "cell_type": "code",
   "execution_count": 8,
   "id": "35bad079-d65c-442b-b47f-1009a95ea2af",
   "metadata": {},
   "outputs": [
    {
     "name": "stdout",
     "output_type": "stream",
     "text": [
      "Vertex \tDistance from Source\n",
      "0 \t 0\n",
      "1 \t 4\n",
      "2 \t 12\n",
      "3 \t 19\n",
      "4 \t 21\n",
      "5 \t 11\n",
      "6 \t 9\n",
      "7 \t 8\n",
      "8 \t 14\n"
     ]
    }
   ],
   "source": [
    "import sys\n",
    "class Graph():\n",
    "\tdef __init__(self, vertices):\n",
    "\t\tself.V = vertices\n",
    "\t\tself.graph = [[0 for column in range(vertices)]\n",
    "            for row in range(vertices)]\n",
    "\n",
    "\tdef printSolution(self, dist):\n",
    "\t\tprint(\"Vertex \\tDistance from Source\")\n",
    "\t\tfor node in range(self.V):\n",
    "\t\t\tprint(node, \"\\t\", dist[node])\n",
    "\n",
    "\tdef minDistance(self, dist, sptSet):\n",
    "\t\tmin = sys.maxsize\n",
    "\t\tfor u in range(self.V):\n",
    "\t\t\tif dist[u] < min and sptSet[u] == False:\n",
    "\t\t\t\tmin = dist[u]\n",
    "\t\t\t\tmin_index = u\n",
    "\t\treturn min_index\n",
    "\n",
    "\tdef dijkstra(self, src):\n",
    "\t\tdist = [sys.maxsize] * self.V\n",
    "\t\tdist[src] = 0\n",
    "\t\tsptSet = [False] * self.V\n",
    "\t\tfor cout in range(self.V):\n",
    "\n",
    "\t\t\tx = self.minDistance(dist, sptSet)\n",
    "\t\t\tsptSet[x] = True\n",
    "\t\t\tfor y in range(self.V):\n",
    "\t\t\t\tif self.graph[x][y] > 0 and sptSet[y] == False and \\\n",
    "\t\t\t\tdist[y] > dist[x] + self.graph[x][y]:\n",
    "\t\t\t\t\t\tdist[y] = dist[x] + self.graph[x][y]\n",
    "\t\tself.printSolution(dist)\n",
    "\n",
    "# Driver program\n",
    "g = Graph(9)\n",
    "g.graph = [[0, 4, 0, 0, 0, 0, 0, 8, 0],\n",
    "\t\t[4, 0, 8, 0, 0, 0, 0, 11, 0],\n",
    "\t\t[0, 8, 0, 7, 0, 4, 0, 0, 2],\n",
    "\t\t[0, 0, 7, 0, 9, 14, 0, 0, 0],\n",
    "\t\t[0, 0, 0, 9, 0, 10, 0, 0, 0],\n",
    "\t\t[0, 0, 4, 14, 10, 0, 2, 0, 0],\n",
    "\t\t[0, 0, 0, 0, 0, 2, 0, 1, 6],\n",
    "\t\t[8, 11, 0, 0, 0, 0, 1, 0, 7],\n",
    "\t\t[0, 0, 2, 0, 0, 0, 6, 7, 0]\n",
    "\t\t];\n",
    "\n",
    "g.dijkstra(0);\n",
    "\n"
   ]
  },
  {
   "cell_type": "code",
   "execution_count": null,
   "id": "9868e1e9-3dc7-4fa5-bdac-f7982574faed",
   "metadata": {},
   "outputs": [],
   "source": []
  }
 ],
 "metadata": {
  "kernelspec": {
   "display_name": "Python 3 (ipykernel)",
   "language": "python",
   "name": "python3"
  },
  "language_info": {
   "codemirror_mode": {
    "name": "ipython",
    "version": 3
   },
   "file_extension": ".py",
   "mimetype": "text/x-python",
   "name": "python",
   "nbconvert_exporter": "python",
   "pygments_lexer": "ipython3",
   "version": "3.8.5"
  }
 },
 "nbformat": 4,
 "nbformat_minor": 5
}
