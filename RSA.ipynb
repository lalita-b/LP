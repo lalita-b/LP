{
 "cells": [
  {
   "cell_type": "code",
   "execution_count": 4,
   "id": "19c0b081-8951-4124-b998-776c972aa2ef",
   "metadata": {},
   "outputs": [
    {
     "name": "stdin",
     "output_type": "stream",
     "text": [
      "Enter prime p:  7\n",
      "Enter prime q:  13\n"
     ]
    },
    {
     "name": "stdout",
     "output_type": "stream",
     "text": [
      "Choosen primes:\n",
      "p=7, q=13\n",
      "\n",
      "n = p * q = 91\n",
      "\n",
      "Euler's function (totient) [phi(n)]: 72\n",
      "\n",
      "Choose an e from a below coprimes array:\n",
      "\n",
      "[5, 7, 11, 13, 19, 23, 25, 29, 31, 37, 41, 43, 47, 49, 55, 59, 61, 65, 67]\n",
      "\n"
     ]
    },
    {
     "name": "stdin",
     "output_type": "stream",
     "text": [
      " 5\n"
     ]
    },
    {
     "name": "stdout",
     "output_type": "stream",
     "text": [
      "\n",
      "Your public key is a pair of numbers (e=5, n=91).\n",
      "\n",
      "Your private key is a pair of numbers (d=29, n=91).\n",
      "\n"
     ]
    },
    {
     "name": "stdin",
     "output_type": "stream",
     "text": [
      "Enter a message to encrypt:  10\n"
     ]
    },
    {
     "name": "stdout",
     "output_type": "stream",
     "text": [
      "\n",
      "Plain message: 10\n",
      "\n",
      "Encrypted message:  87 \n",
      "\n",
      "Decrypted message: 10\n",
      "\n"
     ]
    }
   ],
   "source": [
    "#RSA ALGORITHM\n",
    "def gcd(a, b): # calculates GCD of a and d\n",
    "    while b != 0:\n",
    "        c = a % b\n",
    "        a = b\n",
    "        b = c\n",
    "    return a\n",
    "\n",
    "def modinv(a, m): # calculates modulo inverse of a for mod m\n",
    "    for x in range(1, m):\n",
    "        if (a * x) % m == 1:\n",
    "            return x\n",
    "    return None\n",
    "\n",
    "def coprimes(a): # calculates all possible co-prime numbers with a\n",
    "    l = []\n",
    "    for x in range(2, a):\n",
    "        if gcd(a, x) == 1 and modinv(x, phi) != None:\n",
    "            l.append(x)\n",
    "    for x in l:\n",
    "        if x == modinv(x, phi):\n",
    "            l.remove(x)\n",
    "    return l\n",
    "\n",
    "def encrypt_block(m): # encrypts a single block\n",
    "    c = m ** e % n\n",
    "    return c\n",
    "\n",
    "def decrypt_block(c): # decrypts a single block\n",
    "    m = c ** d % n\n",
    "    return m\n",
    "\n",
    "def encrypt_string(s): # applies encryption\n",
    "    return ''.join([chr(encrypt_block(ord(x))) for x in list(s)])\n",
    "\n",
    "def decrypt_string(s): # applies decryption\n",
    "    return ''.join([chr(decrypt_block(ord(x))) for x in list(s)])\n",
    "\n",
    "if __name__ == \"__main__\":\n",
    "    p = int(input('Enter prime p: '))\n",
    "    q = int(input('Enter prime q: '))\n",
    "    print(\"Choosen primes:\\np=\" + str(p) + \", q=\" + str(q) + \"\\n\")\n",
    "    n = p * q\n",
    "    print(\"n = p * q = \" + str(n) + \"\\n\")\n",
    "    phi = (p - 1) * (q - 1)\n",
    "    print(\"Euler's function (totient) [phi(n)]: \" + str(phi) + \"\\n\")\n",
    "    print(\"Choose an e from a below coprimes array:\\n\")\n",
    "    print(str(coprimes(phi)) + \"\\n\")\n",
    "    e = int(input())\n",
    "    d = modinv(e, phi) # calculates the decryption key d\n",
    "    print(\"\\nYour public key is a pair of numbers (e=\" + str(e) + \", n=\" + str(n) + \").\\n\")\n",
    "    print(\"Your private key is a pair of numbers (d=\" + str(d) + \", n=\" + str(n) + \").\\n\")\n",
    "    s = input(\"Enter a message to encrypt: \")\n",
    "    print(\"\\nPlain message: \" + s + \"\\n\")\n",
    "    enc = encrypt_string(s)\n",
    "    print(\"Encrypted message: \", enc, \"\\n\")\n",
    "    dec = decrypt_string(enc)\n",
    "    print(\"Decrypted message: \" + dec + \"\\n\")\n",
    "\n"
   ]
  },
  {
   "cell_type": "code",
   "execution_count": null,
   "id": "0a09a3d2-da8b-426c-b77a-b84ecb5f8f13",
   "metadata": {},
   "outputs": [],
   "source": []
  },
  {
   "cell_type": "code",
   "execution_count": null,
   "id": "7afb6679-ebc9-4b7c-bd5f-f83d6979dff8",
   "metadata": {},
   "outputs": [],
   "source": []
  }
 ],
 "metadata": {
  "kernelspec": {
   "display_name": "Python 3 (ipykernel)",
   "language": "python",
   "name": "python3"
  },
  "language_info": {
   "codemirror_mode": {
    "name": "ipython",
    "version": 3
   },
   "file_extension": ".py",
   "mimetype": "text/x-python",
   "name": "python",
   "nbconvert_exporter": "python",
   "pygments_lexer": "ipython3",
   "version": "3.8.5"
  }
 },
 "nbformat": 4,
 "nbformat_minor": 5
}
